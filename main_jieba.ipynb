{
 "cells": [
  {
   "cell_type": "markdown",
   "id": "fbc89537-3646-49dd-82d0-48202f57c279",
   "metadata": {},
   "source": [
    "#结巴分词实践"
   ]
  },
  {
   "cell_type": "markdown",
   "id": "fc195d15-ec04-4e53-9159-c0fbc8471e01",
   "metadata": {},
   "source": [
    "##结巴分词的三种模式"
   ]
  },
  {
   "cell_type": "markdown",
   "id": "c558de41-de52-4d2c-aaab-c7373824561d",
   "metadata": {},
   "source": [
    "###精确模式"
   ]
  },
  {
   "cell_type": "code",
   "execution_count": 5,
   "id": "4643d6c6-d41e-4bbf-9723-0750e4bf1282",
   "metadata": {},
   "outputs": [
    {
     "name": "stdout",
     "output_type": "stream",
     "text": [
      "Default Mode: 我/ 来到/ 北京/ 清华大学\n"
     ]
    }
   ],
   "source": [
    "import jieba\n",
    "seg_list = jieba.cut(\"我来到北京清华大学\", cut_all=False)\n",
    "print(\"Default Mode: \" + \"/ \".join(seg_list))  "
   ]
  },
  {
   "cell_type": "markdown",
   "id": "090fcd33-dec9-47c0-9cb8-7d2d048deb3f",
   "metadata": {},
   "source": [
    "###全模式"
   ]
  },
  {
   "cell_type": "code",
   "execution_count": 7,
   "id": "8841cebc-781b-417b-b536-2b01c5383b55",
   "metadata": {},
   "outputs": [
    {
     "name": "stdout",
     "output_type": "stream",
     "text": [
      "Full Mode: 我/ 来到/ 北京/ 清华/ 清华大学/ 华大/ 大学\n"
     ]
    }
   ],
   "source": [
    "seg_list = jieba.cut(\"我来到北京清华大学\", cut_all=True)\n",
    "print(\"Full Mode: \" + \"/ \".join(seg_list)) "
   ]
  },
  {
   "cell_type": "markdown",
   "id": "29abb449-cc8d-4b85-9b34-3a4cd8820c65",
   "metadata": {},
   "source": [
    "###搜索引擎模式"
   ]
  },
  {
   "cell_type": "code",
   "execution_count": null,
   "id": "de86b08e-4c40-43c8-934b-3eae6dffb207",
   "metadata": {},
   "outputs": [],
   "source": [
    "seg_list = jieba.cut_for_search(\"小明硕士毕业于中国科学院计算所，后在日本京都大学深造\")  # 搜索引擎模式\n",
    "print(\", \".join(seg_list))"
   ]
  },
  {
   "cell_type": "markdown",
   "id": "b57e5ea9-ce5c-424b-9e9a-03bd89d30aef",
   "metadata": {},
   "source": [
    "###载入词典"
   ]
  },
  {
   "cell_type": "code",
   "execution_count": 11,
   "id": "72916945-1c23-4db9-bad0-00cb60143d56",
   "metadata": {},
   "outputs": [
    {
     "name": "stdout",
     "output_type": "stream",
     "text": [
      "Default Mode: 刘宇彤/ 即将/ 是/ 自然语言/ 处理/ 方面/ 的/ 高手\n"
     ]
    }
   ],
   "source": [
    "import jieba\n",
    "jieba.load_userdict(\"userdict.txt\")\n",
    "seg_list = jieba.cut(\"刘宇彤即将是自然语言处理方面的高手\", cut_all=False, HMM=False)\n",
    "print(\"Default Mode: \" + \"/ \".join(seg_list))"
   ]
  },
  {
   "cell_type": "code",
   "execution_count": null,
   "id": "85a19774-87f2-4433-ae32-7d9c5b12775d",
   "metadata": {},
   "outputs": [],
   "source": []
  }
 ],
 "metadata": {
  "kernelspec": {
   "display_name": "Python 3 (ipykernel)",
   "language": "python",
   "name": "python3"
  },
  "language_info": {
   "codemirror_mode": {
    "name": "ipython",
    "version": 3
   },
   "file_extension": ".py",
   "mimetype": "text/x-python",
   "name": "python",
   "nbconvert_exporter": "python",
   "pygments_lexer": "ipython3",
   "version": "3.12.4"
  }
 },
 "nbformat": 4,
 "nbformat_minor": 5
}
